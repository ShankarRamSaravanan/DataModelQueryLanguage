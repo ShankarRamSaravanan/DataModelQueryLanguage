{
 "cells": [
  {
   "cell_type": "code",
   "execution_count": 1,
   "id": "462b226d",
   "metadata": {},
   "outputs": [],
   "source": [
    "import pandas as pd\n",
    "from datetime import datetime\n",
    "import sqlite3\n",
    "from sqlite3 import Error"
   ]
  },
  {
   "cell_type": "code",
   "execution_count": null,
   "id": "b388435d",
   "metadata": {},
   "outputs": [],
   "source": [
    "import pgamin4"
   ]
  },
  {
   "cell_type": "code",
   "execution_count": 2,
   "id": "e593b1f9",
   "metadata": {},
   "outputs": [],
   "source": [
    "def create_connection(db_file, delete_db=False):\n",
    "    import os\n",
    "    if delete_db and os.path.exists(db_file):\n",
    "        os.remove(db_file)\n",
    "\n",
    "    conn = None\n",
    "    try:\n",
    "        conn = sqlite3.connect(db_file)\n",
    "        conn.execute(\"PRAGMA foreign_keys = 1\")\n",
    "    except Error as e:\n",
    "        print(e)\n",
    "\n",
    "    return conn\n",
    "\n",
    "\n",
    "def create_table(conn, create_table_sql, drop_table_name=None):\n",
    "    if drop_table_name:  # You can optionally pass drop_table_name to drop the table.\n",
    "        try:\n",
    "            c = conn.cursor()\n",
    "            c.execute(\"\"\"DROP TABLE IF EXISTS %s\"\"\" % (drop_table_name))\n",
    "        except Error as e:\n",
    "            print(e)\n",
    "\n",
    "    try:\n",
    "        c = conn.cursor()\n",
    "        c.execute(create_table_sql)\n",
    "    except Error as e:\n",
    "        print(e)\n",
    "\n",
    "\n",
    "def execute_sql_statement(sql_statement, conn):\n",
    "    cur = conn.cursor()\n",
    "\n",
    "    cur.execute(sql_statement)\n",
    "\n",
    "    rows = cur.fetchall()\n",
    "\n",
    "    return rows\n",
    "\n",
    "\n",
    "def execute_many_sql_statement(sql_statement, conn, values):\n",
    "    cur = conn.cursor()\n",
    "\n",
    "    cur.executemany(sql_statement, list(map(tuple, values)))\n",
    "\n",
    "    rows = cur.fetchall()\n",
    "\n",
    "    return rows"
   ]
  },
  {
   "cell_type": "code",
   "execution_count": 12,
   "id": "35e72126",
   "metadata": {},
   "outputs": [],
   "source": [
    "def populateTables(conn):\n",
    "    \n",
    "    create_table(conn,\n",
    "                 \"\"\"CREATE TABLE Customer(Customer_id Varchar PRIMARY KEY,cname varchar(50) NOT NULL,Email_id varchar(50) NOT NULL,\n",
    "Address varchar(50) NOT NULL,SSN Integer NOT NULL,Phone_no Integer NOT NULL)\"\"\",\"Customer\")\n",
    "    \n",
    "    create_table(conn,\"\"\"CREATE TABLE Branch_Details(Branch_id varchar(10) PRIMARY KEY,\n",
    "    IFSC_code varchar(20) NOT NULL,\n",
    "    Pincode INTEGER NOT NULL, \n",
    "    Branch_name varchar(20) NOT NULL, \n",
    "    Manager_name varchar(30))\"\"\", \"Branch_Details\")\n",
    "\n",
    "\n",
    "    \n",
    "    create_table(conn,\"\"\"CREATE TABLE User_Login(User_id  varchar(20) PRIMARY KEY,Password varchar(10) NOT NULL,Account_no INTEGER NOT NULL)\"\"\",\"User_Login\")\n",
    "        \n",
    "    create_table(conn,\n",
    "                 \"\"\"CREATE TABLE Acount_Details(Account_no INTEGER PRIMARY KEY,\n",
    "                 Account_types varchar(10) NOT NULL,\n",
    "                 Customer_id varchar NOT NULL,\n",
    "                Branch_name varchaR(10) NOT NULL, FOREIGN KEY(Customer_id) REFERENCES Customer(Customer_id))\"\"\",\"Acount_Details\")\n",
    "    \n",
    "    \n",
    "    create_table(conn,\"\"\"CREATE TABLE Loan(Loan_id INTEGER PRIMARY KEY NOT NULL,\n",
    "    Account_no INTEGER NOT NULL,\n",
    "Sanctioned_amount INTEGER NOT NULL,\n",
    "Requested_amount INTEGER NOT NULL,\n",
    "Disbursed_amount INTEGER NOT NULL,\n",
    "Collateral varchar(20) NOT NULL,\n",
    "Collateral_type varchar(20) NOT NULL,\n",
    "Purpose_of_loan varchar(10) NOT NULL,\n",
    "Branch_id INTEGER NOT NULL,FOREIGN KEY(Branch_id) REFERENCES Branch_Details(Branch_id))\n",
    "\"\"\", \"Loan\" )\n",
    "    \n",
    "\n",
    "    \n",
    "    create_table(conn,\n",
    "                 \"\"\"CREATE TABLE Transactions(Transaction_id varchar(20) PRIMARY KEY,\n",
    "                 Account_no INTEGER NOT NULL,\n",
    "                 Time_stamp TIMESTAMP(10) NOT NULL,\n",
    "Amount varchar(20) NOT NULL,\n",
    "Transaction_mode varchar(30) NOT NULL)\"\"\",\"Transactions\")\n",
    "    \n",
    "    \n",
    "        \n",
    "    create_table(conn,\"\"\"CREATE TABLE Employee(Emp_id VARchar(20) PRIMARY KEY,\n",
    "    ename varchar(2) NOT NULL,\n",
    "Email_id varchar(20) NOT NULL,\n",
    "SSN INTEGER NOT NULL,\n",
    "Phone_no INTEGER NOT NULL,\n",
    "Address varchar(200) NOT NULL,FOREIGN KEY(Emp_id) REFERENCES Employee_Login(Emp_id))\"\"\",\n",
    "                 \"Employee\")\n",
    "    \n",
    "\n",
    "    create_table(conn,\"\"\"CREATE TABLE Employee_Login (Emp_id CHARACTER VARchar(20) PRIMARY KEY, Password Varchar(10) NOT NULL)\"\"\",\"Employee_Login\")\n",
    "    "
   ]
  },
  {
   "cell_type": "code",
   "execution_count": 13,
   "id": "b9dc7f27",
   "metadata": {},
   "outputs": [],
   "source": [
    "conn = create_connection('Customer1.db')\n",
    "populateTables(conn)\n"
   ]
  },
  {
   "cell_type": "code",
   "execution_count": 14,
   "id": "33ad90f3",
   "metadata": {},
   "outputs": [],
   "source": [
    "def Customer(conn):\n",
    "    #fields = ['Customer_Id', 'Name', 'Email', 'date', 'SSN', 'Phone', 'Address']\n",
    "    df = pd.read_csv('Customer.csv', skipinitialspace=True)\n",
    "    \n",
    "\n",
    "    #df = df[['Customer_Id', 'Name', 'Email', 'date', 'SSN', 'Phone', 'Address']]\n",
    "\n",
    "    execute_many_sql_statement(\"INSERT INTO Customer VALUES(?,?,?,?,?,?);\", conn, df.to_numpy())\n",
    "\n",
    "    conn.commit()\n",
    "\n",
    "Customer(conn)\n",
    "\n"
   ]
  },
  {
   "cell_type": "code",
   "execution_count": 15,
   "id": "9f0edaf7",
   "metadata": {},
   "outputs": [],
   "source": [
    "def Branch_details(conn):\n",
    "    df = pd.read_csv('Branch_Details.csv', skipinitialspace=True)\n",
    "    \n",
    "    execute_many_sql_statement(\"INSERT INTO Branch_details VALUES(?,?,?,?,?);\", conn, df.to_numpy())\n",
    "\n",
    "    conn.commit()\n",
    "\n",
    "Branch_details(conn)\n"
   ]
  },
  {
   "cell_type": "code",
   "execution_count": 16,
   "id": "79815cd2",
   "metadata": {},
   "outputs": [],
   "source": [
    "def Account_Details(conn):\n",
    "    df = pd.read_csv('Account_Details.csv', skipinitialspace=True)\n",
    "    \n",
    "\n",
    "\n",
    "    execute_many_sql_statement(\"INSERT INTO Acount_Details VALUES(?,?,?,?);\", conn, df.to_numpy())\n",
    "\n",
    "    conn.commit()\n",
    "\n",
    "Account_Details(conn)\n",
    "\n"
   ]
  },
  {
   "cell_type": "code",
   "execution_count": 17,
   "id": "a6c9939b",
   "metadata": {},
   "outputs": [],
   "source": [
    "def Loan(conn):\n",
    "    df = pd.read_csv('loan.csv', skipinitialspace=True)\n",
    "    \n",
    "\n",
    "    execute_many_sql_statement(\"INSERT INTO Loan VALUES(?,?,?,?,?,?,?,?,?);\", conn, df.to_numpy())\n",
    "\n",
    "    conn.commit()\n",
    "\n",
    "Loan(conn)\n",
    "\n"
   ]
  },
  {
   "cell_type": "code",
   "execution_count": 18,
   "id": "3d84cbcf",
   "metadata": {},
   "outputs": [],
   "source": [
    "def Transactions(conn):\n",
    "    df = pd.read_csv('Transaction.csv', skipinitialspace=True)\n",
    "    \n",
    "\n",
    "    execute_many_sql_statement(\"INSERT INTO Transactions VALUES(?,?,?,?,?);\", conn, df.to_numpy())\n",
    "\n",
    "    conn.commit()\n",
    "\n",
    "Transactions(conn)"
   ]
  },
  {
   "cell_type": "code",
   "execution_count": 19,
   "id": "43b11ee9",
   "metadata": {},
   "outputs": [],
   "source": [
    "def Employee_Login(conn):\n",
    "    df = pd.read_csv('Employee_Login.csv', skipinitialspace=True)\n",
    "    \n",
    "\n",
    "    execute_many_sql_statement(\"INSERT INTO Employee_Login VALUES(?,?);\", conn, df.to_numpy())\n",
    "\n",
    "    conn.commit()\n",
    "\n",
    "Employee_Login(conn)"
   ]
  },
  {
   "cell_type": "code",
   "execution_count": 20,
   "id": "8d574d8b",
   "metadata": {},
   "outputs": [],
   "source": [
    "def Employee(conn):\n",
    "    df = pd.read_csv('Employee.csv', skipinitialspace=True)\n",
    "    \n",
    "\n",
    "    execute_many_sql_statement(\"INSERT INTO Employee VALUES(?,?,?,?,?,?);\", conn, df.to_numpy())\n",
    "\n",
    "    conn.commit()\n",
    "\n",
    "Employee(conn)"
   ]
  },
  {
   "cell_type": "code",
   "execution_count": null,
   "id": "20cfb1e7",
   "metadata": {},
   "outputs": [],
   "source": []
  },
  {
   "cell_type": "code",
   "execution_count": null,
   "id": "7e083dd4",
   "metadata": {},
   "outputs": [],
   "source": []
  },
  {
   "cell_type": "code",
   "execution_count": null,
   "id": "b774bee3",
   "metadata": {},
   "outputs": [],
   "source": [
    "def Acount_Details(conn):\n",
    "    df = pd.read_csv('Acount_Details.csv', skipinitialspace=True)\n",
    "    \n",
    "\n",
    "\n",
    "    execute_many_sql_statement(\"INSERT INTO Acount_Details VALUES(?,?,?,?);\", conn, df.to_numpy())\n",
    "\n",
    "    conn.commit()\n",
    "\n",
    "Acount_Details(conn)\n",
    "\n"
   ]
  },
  {
   "cell_type": "code",
   "execution_count": null,
   "id": "75f47c6c",
   "metadata": {},
   "outputs": [],
   "source": []
  },
  {
   "cell_type": "code",
   "execution_count": null,
   "id": "2dd76d07",
   "metadata": {},
   "outputs": [],
   "source": []
  },
  {
   "cell_type": "code",
   "execution_count": null,
   "id": "65b187ed",
   "metadata": {},
   "outputs": [],
   "source": []
  }
 ],
 "metadata": {
  "kernelspec": {
   "display_name": "Python 3 (ipykernel)",
   "language": "python",
   "name": "python3"
  },
  "language_info": {
   "codemirror_mode": {
    "name": "ipython",
    "version": 3
   },
   "file_extension": ".py",
   "mimetype": "text/x-python",
   "name": "python",
   "nbconvert_exporter": "python",
   "pygments_lexer": "ipython3",
   "version": "3.9.12"
  }
 },
 "nbformat": 4,
 "nbformat_minor": 5
}
