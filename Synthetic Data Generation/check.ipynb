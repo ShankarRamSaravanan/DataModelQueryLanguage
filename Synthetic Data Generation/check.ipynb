{
 "cells": [
  {
   "cell_type": "code",
   "execution_count": 1,
   "id": "cdc009f9",
   "metadata": {},
   "outputs": [],
   "source": [
    "import pandas as pd\n",
    "\n",
    "\n",
    "Employee = pd.read_csv(\"C:/ram/FALL/DMQL/Project/Employee.csv\")\n",
    "\n",
    "\n",
    "Account_Details = pd.read_csv(\"C:/ram/FALL/DMQL/Project/Account_Details.csv\")"
   ]
  },
  {
   "cell_type": "code",
   "execution_count": 2,
   "id": "eba319a1",
   "metadata": {},
   "outputs": [
    {
     "data": {
      "text/html": [
       "<div>\n",
       "<style scoped>\n",
       "    .dataframe tbody tr th:only-of-type {\n",
       "        vertical-align: middle;\n",
       "    }\n",
       "\n",
       "    .dataframe tbody tr th {\n",
       "        vertical-align: top;\n",
       "    }\n",
       "\n",
       "    .dataframe thead th {\n",
       "        text-align: right;\n",
       "    }\n",
       "</style>\n",
       "<table border=\"1\" class=\"dataframe\">\n",
       "  <thead>\n",
       "    <tr style=\"text-align: right;\">\n",
       "      <th></th>\n",
       "      <th>Account_No</th>\n",
       "      <th>Account_type</th>\n",
       "      <th>Customer_Id</th>\n",
       "      <th>Branch_Id</th>\n",
       "    </tr>\n",
       "  </thead>\n",
       "  <tbody>\n",
       "    <tr>\n",
       "      <th>0</th>\n",
       "      <td>1032665555259110</td>\n",
       "      <td>Checking</td>\n",
       "      <td>C76886793</td>\n",
       "      <td>BSABUF05</td>\n",
       "    </tr>\n",
       "    <tr>\n",
       "      <th>1</th>\n",
       "      <td>1022457127705150</td>\n",
       "      <td>Checking</td>\n",
       "      <td>C59860024</td>\n",
       "      <td>BSABUF07</td>\n",
       "    </tr>\n",
       "    <tr>\n",
       "      <th>2</th>\n",
       "      <td>1034377768495020</td>\n",
       "      <td>Saving</td>\n",
       "      <td>C46800944</td>\n",
       "      <td>BSABUF02</td>\n",
       "    </tr>\n",
       "    <tr>\n",
       "      <th>3</th>\n",
       "      <td>1030517720272910</td>\n",
       "      <td>Saving</td>\n",
       "      <td>C53277210</td>\n",
       "      <td>BSABUF15</td>\n",
       "    </tr>\n",
       "    <tr>\n",
       "      <th>4</th>\n",
       "      <td>1018800232477030</td>\n",
       "      <td>Checking</td>\n",
       "      <td>C77775339</td>\n",
       "      <td>BSABUF05</td>\n",
       "    </tr>\n",
       "    <tr>\n",
       "      <th>...</th>\n",
       "      <td>...</td>\n",
       "      <td>...</td>\n",
       "      <td>...</td>\n",
       "      <td>...</td>\n",
       "    </tr>\n",
       "    <tr>\n",
       "      <th>9995</th>\n",
       "      <td>1020805612047480</td>\n",
       "      <td>Checking</td>\n",
       "      <td>C1973444</td>\n",
       "      <td>BSABUF18</td>\n",
       "    </tr>\n",
       "    <tr>\n",
       "      <th>9996</th>\n",
       "      <td>1070610451281470</td>\n",
       "      <td>Checking</td>\n",
       "      <td>C6017585</td>\n",
       "      <td>BSABUF18</td>\n",
       "    </tr>\n",
       "    <tr>\n",
       "      <th>9997</th>\n",
       "      <td>1061135450628380</td>\n",
       "      <td>Saving</td>\n",
       "      <td>C2671282</td>\n",
       "      <td>BSABUF03</td>\n",
       "    </tr>\n",
       "    <tr>\n",
       "      <th>9998</th>\n",
       "      <td>1088222785375750</td>\n",
       "      <td>Saving</td>\n",
       "      <td>C2279991</td>\n",
       "      <td>BSABUF06</td>\n",
       "    </tr>\n",
       "    <tr>\n",
       "      <th>9999</th>\n",
       "      <td>1024251000827920</td>\n",
       "      <td>Checking</td>\n",
       "      <td>C5547202</td>\n",
       "      <td>BSABUF23</td>\n",
       "    </tr>\n",
       "  </tbody>\n",
       "</table>\n",
       "<p>10000 rows × 4 columns</p>\n",
       "</div>"
      ],
      "text/plain": [
       "            Account_No Account_type Customer_Id Branch_Id\n",
       "0     1032665555259110     Checking   C76886793  BSABUF05\n",
       "1     1022457127705150     Checking   C59860024  BSABUF07\n",
       "2     1034377768495020       Saving   C46800944  BSABUF02\n",
       "3     1030517720272910       Saving   C53277210  BSABUF15\n",
       "4     1018800232477030     Checking   C77775339  BSABUF05\n",
       "...                ...          ...         ...       ...\n",
       "9995  1020805612047480     Checking    C1973444  BSABUF18\n",
       "9996  1070610451281470     Checking    C6017585  BSABUF18\n",
       "9997  1061135450628380       Saving    C2671282  BSABUF03\n",
       "9998  1088222785375750       Saving    C2279991  BSABUF06\n",
       "9999  1024251000827920     Checking    C5547202  BSABUF23\n",
       "\n",
       "[10000 rows x 4 columns]"
      ]
     },
     "execution_count": 2,
     "metadata": {},
     "output_type": "execute_result"
    }
   ],
   "source": [
    "Account_Details"
   ]
  },
  {
   "cell_type": "code",
   "execution_count": 5,
   "id": "69b9c8a5",
   "metadata": {},
   "outputs": [
    {
     "data": {
      "text/plain": [
       "10000"
      ]
     },
     "execution_count": 5,
     "metadata": {},
     "output_type": "execute_result"
    }
   ],
   "source": [
    "len(Account_Details['Customer_Id'].tolist())"
   ]
  },
  {
   "cell_type": "code",
   "execution_count": 6,
   "id": "249bb40e",
   "metadata": {},
   "outputs": [
    {
     "data": {
      "text/plain": [
       "265"
      ]
     },
     "execution_count": 6,
     "metadata": {},
     "output_type": "execute_result"
    }
   ],
   "source": [
    "len(set(Account_Details['Customer_Id'].tolist()))"
   ]
  },
  {
   "cell_type": "code",
   "execution_count": 12,
   "id": "98af5276",
   "metadata": {},
   "outputs": [],
   "source": [
    "\n",
    "customer = pd.read_csv(\"C:/ram/FALL/DMQL/Project/customer.csv\")"
   ]
  },
  {
   "cell_type": "code",
   "execution_count": 16,
   "id": "d4da4c9c",
   "metadata": {},
   "outputs": [
    {
     "data": {
      "text/plain": [
       "9746"
      ]
     },
     "execution_count": 16,
     "metadata": {},
     "output_type": "execute_result"
    }
   ],
   "source": [
    "len(set(customer['Customer_ID']))"
   ]
  },
  {
   "cell_type": "code",
   "execution_count": null,
   "id": "aaa71ad0",
   "metadata": {},
   "outputs": [],
   "source": [
    "C9801882 -> C9800882\n",
    "C4077889 -> C4077879\n",
    "C7498614 -> C7498514\n",
    "C9650440 -> C9650420\n",
    "\n"
   ]
  }
 ],
 "metadata": {
  "kernelspec": {
   "display_name": "Python 3 (ipykernel)",
   "language": "python",
   "name": "python3"
  },
  "language_info": {
   "codemirror_mode": {
    "name": "ipython",
    "version": 3
   },
   "file_extension": ".py",
   "mimetype": "text/x-python",
   "name": "python",
   "nbconvert_exporter": "python",
   "pygments_lexer": "ipython3",
   "version": "3.9.12"
  }
 },
 "nbformat": 4,
 "nbformat_minor": 5
}
